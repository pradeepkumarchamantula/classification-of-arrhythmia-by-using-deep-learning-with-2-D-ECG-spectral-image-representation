{
 "cells": [
  {
   "cell_type": "code",
   "execution_count": null,
   "metadata": {
    "colab": {
     "base_uri": "https://localhost:8080/"
    },
    "executionInfo": {
     "elapsed": 2570,
     "status": "ok",
     "timestamp": 1690715203265,
     "user": {
      "displayName": "597 Dileep",
      "userId": "02511124501010041631"
     },
     "user_tz": -330
    },
    "id": "V2xWyHypTEpN",
    "outputId": "f05efc36-4118-4ee7-8f1a-9606e451ddbb"
   },
   "outputs": [
    {
     "name": "stdout",
     "output_type": "stream",
     "text": [
      "Archive:  /content/drive/MyDrive/ECG-Dataset.zip\n",
      "replace /content/drive/MyDrive/ECG-Dataset/Dataset/test/Left Bundle Branch Block/fig_5897.png? [y]es, [n]o, [A]ll, [N]one, [r]ename: "
     ]
    }
   ],
   "source": [
    "#extract th e zip folder\n",
    "!unzip \"/content/drive/MyDrive/ECG-Dataset.zip\" -d \"/content/drive/MyDrive/ECG-Dataset\"\n"
   ]
  },
  {
   "cell_type": "code",
   "execution_count": null,
   "metadata": {
    "id": "vxGMudFEWtEg"
   },
   "outputs": [],
   "source": [
    "#import the nueral network libraries\n",
    "from tensorflow.keras.models import Sequential\n",
    "from tensorflow.keras.layers import Dense\n"
   ]
  },
  {
   "cell_type": "code",
   "execution_count": null,
   "metadata": {
    "id": "Tfq6ZU6aa_cx"
   },
   "outputs": [],
   "source": [
    "#import the cnn layers\n",
    "from tensorflow.keras.layers import Convolution2D\n",
    "from tensorflow.keras.layers import MaxPooling2D\n",
    "from tensorflow.keras.layers import Flatten"
   ]
  },
  {
   "cell_type": "markdown",
   "metadata": {
    "id": "WoPunGgBfgt2"
   },
   "source": [
    "#image preprocessing (or) data Augmentation"
   ]
  },
  {
   "cell_type": "code",
   "execution_count": null,
   "metadata": {
    "id": "IS8A9Idnd7od"
   },
   "outputs": [],
   "source": [
    "from tensorflow.keras.preprocessing.image import ImageDataGenerator\n"
   ]
  },
  {
   "cell_type": "code",
   "execution_count": null,
   "metadata": {
    "id": "HDqx-UA2igFy"
   },
   "outputs": [],
   "source": [
    "train_datagen=ImageDataGenerator(rescale=1./255,shear_range=0.2,zoom_range=0.2,horizontal_flip=True)"
   ]
  },
  {
   "cell_type": "code",
   "execution_count": null,
   "metadata": {
    "id": "g6iwOIYwjc0T"
   },
   "outputs": [],
   "source": [
    "test_datagen=ImageDataGenerator(rescale=1./255)"
   ]
  },
  {
   "cell_type": "code",
   "execution_count": null,
   "metadata": {
    "colab": {
     "base_uri": "https://localhost:8080/"
    },
    "executionInfo": {
     "elapsed": 777,
     "status": "ok",
     "timestamp": 1690716752719,
     "user": {
      "displayName": "597 Dileep",
      "userId": "02511124501010041631"
     },
     "user_tz": -330
    },
    "id": "UnLhcEdSjrOh",
    "outputId": "a93bcbd7-ab5a-4606-b3aa-af51bdc90161"
   },
   "outputs": [
    {
     "name": "stdout",
     "output_type": "stream",
     "text": [
      "Found 15341 images belonging to 6 classes.\n"
     ]
    }
   ],
   "source": [
    "x_train =train_datagen.flow_from_directory(\"/content/drive/MyDrive/ECG-Dataset/Dataset/train\",target_size=(64,64),batch_size=32,class_mode=\"categorical\")\n"
   ]
  },
  {
   "cell_type": "code",
   "execution_count": null,
   "metadata": {
    "colab": {
     "base_uri": "https://localhost:8080/"
    },
    "executionInfo": {
     "elapsed": 510,
     "status": "ok",
     "timestamp": 1690719806469,
     "user": {
      "displayName": "597 Dileep",
      "userId": "02511124501010041631"
     },
     "user_tz": -330
    },
    "id": "mMGBORQ3utXi",
    "outputId": "691a749c-d00f-40c5-8327-c3962c1e1222"
   },
   "outputs": [
    {
     "name": "stdout",
     "output_type": "stream",
     "text": [
      "Found 6825 images belonging to 6 classes.\n"
     ]
    }
   ],
   "source": [
    "x_test = test_datagen.flow_from_directory(\"/content/drive/MyDrive/ECG-Dataset/Dataset/test\",target_size=(64,64),batch_size=32,class_mode=\"categorical\")"
   ]
  },
  {
   "cell_type": "code",
   "execution_count": null,
   "metadata": {
    "colab": {
     "base_uri": "https://localhost:8080/"
    },
    "executionInfo": {
     "elapsed": 3,
     "status": "ok",
     "timestamp": 1690716783624,
     "user": {
      "displayName": "597 Dileep",
      "userId": "02511124501010041631"
     },
     "user_tz": -330
    },
    "id": "1rkFHifxkaMQ",
    "outputId": "3e57785b-ca85-4539-afbf-39d6844d5870"
   },
   "outputs": [
    {
     "data": {
      "text/plain": [
       "{'Left Bundle Branch Block': 0,\n",
       " 'Normal': 1,\n",
       " 'Premature Atrial Contraction': 2,\n",
       " 'Premature Ventricular Contractions': 3,\n",
       " 'Right Bundle Branch Block': 4,\n",
       " 'Ventricular Fibrillation': 5}"
      ]
     },
     "execution_count": 10,
     "metadata": {},
     "output_type": "execute_result"
    }
   ],
   "source": [
    "x_train.class_indices"
   ]
  },
  {
   "cell_type": "code",
   "execution_count": null,
   "metadata": {
    "id": "k8f2lKudksA1"
   },
   "outputs": [],
   "source": [
    "#initialize the model\n",
    "model=Sequential()"
   ]
  },
  {
   "cell_type": "code",
   "execution_count": null,
   "metadata": {
    "id": "f8FhtNQik0-c"
   },
   "outputs": [],
   "source": [
    "#convolutional model\n",
    "model.add(Convolution2D(32,(3,3),input_shape=(64,64,3),activation=\"relu\"))\n",
    "#here 32 indiates no.of feature detectors and(3,3) is feature detector size"
   ]
  },
  {
   "cell_type": "code",
   "execution_count": null,
   "metadata": {
    "id": "CMLH2JySlbWU"
   },
   "outputs": [],
   "source": [
    "#pooling layer\n",
    "model.add(MaxPooling2D(pool_size=(2,2)))"
   ]
  },
  {
   "cell_type": "code",
   "execution_count": null,
   "metadata": {
    "id": "sLr8KkPZmOFE"
   },
   "outputs": [],
   "source": [
    "#flatten layer\n",
    "model.add(Flatten())"
   ]
  },
  {
   "cell_type": "markdown",
   "metadata": {
    "id": "MNddOwIrmZap"
   },
   "source": [
    "#hidden layers"
   ]
  },
  {
   "cell_type": "code",
   "execution_count": null,
   "metadata": {
    "id": "Y3uPzKkimV2L"
   },
   "outputs": [],
   "source": [
    "model.add(Dense(units=200,activation=\"relu\",kernel_initializer=\"random_uniform\"))"
   ]
  },
  {
   "cell_type": "code",
   "execution_count": null,
   "metadata": {
    "id": "2DUdjv9pmq61"
   },
   "outputs": [],
   "source": [
    "model.add(Dense(units=300,activation=\"relu\",kernel_initializer=\"random_uniform\"))"
   ]
  },
  {
   "cell_type": "markdown",
   "metadata": {
    "id": "FxvCgTKKmyKd"
   },
   "source": [
    "#output layer\n"
   ]
  },
  {
   "cell_type": "code",
   "execution_count": null,
   "metadata": {
    "id": "SOFB6mohmvrC"
   },
   "outputs": [],
   "source": [
    "model.add(Dense(units=6,activation=\"softmax\",kernel_initializer=\"random_uniform\"))"
   ]
  },
  {
   "cell_type": "markdown",
   "metadata": {
    "id": "mnomqk5-nNBM"
   },
   "source": [
    "#compile model"
   ]
  },
  {
   "cell_type": "code",
   "execution_count": null,
   "metadata": {
    "id": "_H6pfD42nKU0"
   },
   "outputs": [],
   "source": [
    "model.compile(optimizer=\"adam\",loss=\"categorical_crossentropy\",metrics=[\"accuracy\"])"
   ]
  },
  {
   "cell_type": "markdown",
   "metadata": {
    "id": "fMEEPDOhsjHc"
   },
   "source": [
    "#train your  model"
   ]
  },
  {
   "cell_type": "code",
   "execution_count": null,
   "metadata": {
    "colab": {
     "base_uri": "https://localhost:8080/"
    },
    "executionInfo": {
     "elapsed": 1833644,
     "status": "ok",
     "timestamp": 1690724281220,
     "user": {
      "displayName": "597 Dileep",
      "userId": "02511124501010041631"
     },
     "user_tz": -330
    },
    "id": "ykw_NqGRry3B",
    "outputId": "61ea98a6-5730-4257-fbd3-88f30cfd399e"
   },
   "outputs": [
    {
     "name": "stdout",
     "output_type": "stream",
     "text": [
      "Epoch 1/25\n"
     ]
    },
    {
     "name": "stderr",
     "output_type": "stream",
     "text": [
      "<ipython-input-29-85df04309dce>:1: UserWarning: `Model.fit_generator` is deprecated and will be removed in a future version. Please use `Model.fit`, which supports generators.\n",
      "  tr=model.fit_generator(x_train,steps_per_epoch=480,epochs=25,validation_data=x_test,validation_steps=10)\n"
     ]
    },
    {
     "name": "stdout",
     "output_type": "stream",
     "text": [
      "480/480 [==============================] - 139s 290ms/step - loss: 0.1375 - accuracy: 0.9570 - val_loss: 0.4658 - val_accuracy: 0.8344\n",
      "Epoch 2/25\n",
      "480/480 [==============================] - 135s 280ms/step - loss: 0.1019 - accuracy: 0.9696 - val_loss: 0.5208 - val_accuracy: 0.8656\n",
      "Epoch 3/25\n",
      "480/480 [==============================] - 138s 288ms/step - loss: 0.0817 - accuracy: 0.9740 - val_loss: 0.4992 - val_accuracy: 0.9031\n",
      "Epoch 4/25\n",
      "480/480 [==============================] - 137s 285ms/step - loss: 0.0653 - accuracy: 0.9776 - val_loss: 0.6651 - val_accuracy: 0.8719\n",
      "Epoch 5/25\n",
      "480/480 [==============================] - 138s 286ms/step - loss: 0.0542 - accuracy: 0.9817 - val_loss: 1.0073 - val_accuracy: 0.8375\n",
      "Epoch 6/25\n",
      "480/480 [==============================] - 139s 289ms/step - loss: 0.0553 - accuracy: 0.9817 - val_loss: 0.9780 - val_accuracy: 0.8344\n",
      "Epoch 7/25\n",
      "480/480 [==============================] - 136s 284ms/step - loss: 0.0415 - accuracy: 0.9860 - val_loss: 0.9159 - val_accuracy: 0.8375\n",
      "Epoch 8/25\n",
      "480/480 [==============================] - 135s 282ms/step - loss: 0.0399 - accuracy: 0.9868 - val_loss: 0.9604 - val_accuracy: 0.8500\n",
      "Epoch 9/25\n",
      "480/480 [==============================] - 136s 283ms/step - loss: 0.0360 - accuracy: 0.9881 - val_loss: 0.6039 - val_accuracy: 0.8719\n",
      "Epoch 10/25\n",
      "480/480 [==============================] - 139s 289ms/step - loss: 0.0288 - accuracy: 0.9909 - val_loss: 0.6793 - val_accuracy: 0.8750\n",
      "Epoch 11/25\n",
      "480/480 [==============================] - 134s 278ms/step - loss: 0.0434 - accuracy: 0.9866 - val_loss: 0.7641 - val_accuracy: 0.8562\n",
      "Epoch 12/25\n",
      "480/480 [==============================] - 134s 278ms/step - loss: 0.0281 - accuracy: 0.9913 - val_loss: 1.3930 - val_accuracy: 0.8500\n",
      "Epoch 13/25\n",
      "480/480 [==============================] - 133s 277ms/step - loss: 0.0235 - accuracy: 0.9922 - val_loss: 0.9433 - val_accuracy: 0.8969\n",
      "Epoch 14/25\n",
      "480/480 [==============================] - 133s 276ms/step - loss: 0.0267 - accuracy: 0.9913 - val_loss: 1.2740 - val_accuracy: 0.8594\n",
      "Epoch 15/25\n",
      "480/480 [==============================] - 134s 279ms/step - loss: 0.0240 - accuracy: 0.9934 - val_loss: 1.0927 - val_accuracy: 0.8750\n",
      "Epoch 16/25\n",
      "480/480 [==============================] - 136s 283ms/step - loss: 0.0224 - accuracy: 0.9926 - val_loss: 0.9975 - val_accuracy: 0.8438\n",
      "Epoch 17/25\n",
      "480/480 [==============================] - 136s 282ms/step - loss: 0.0185 - accuracy: 0.9933 - val_loss: 1.9398 - val_accuracy: 0.8156\n",
      "Epoch 18/25\n",
      "480/480 [==============================] - 134s 280ms/step - loss: 0.0314 - accuracy: 0.9901 - val_loss: 1.3403 - val_accuracy: 0.8375\n",
      "Epoch 19/25\n",
      "480/480 [==============================] - 136s 282ms/step - loss: 0.0197 - accuracy: 0.9932 - val_loss: 1.4514 - val_accuracy: 0.8719\n",
      "Epoch 20/25\n",
      "480/480 [==============================] - 135s 280ms/step - loss: 0.0185 - accuracy: 0.9942 - val_loss: 1.0550 - val_accuracy: 0.8500\n",
      "Epoch 21/25\n",
      "480/480 [==============================] - 135s 281ms/step - loss: 0.0114 - accuracy: 0.9962 - val_loss: 0.7902 - val_accuracy: 0.8625\n",
      "Epoch 22/25\n",
      "480/480 [==============================] - 134s 279ms/step - loss: 0.0144 - accuracy: 0.9956 - val_loss: 1.0047 - val_accuracy: 0.8313\n",
      "Epoch 23/25\n",
      "480/480 [==============================] - 136s 283ms/step - loss: 0.0173 - accuracy: 0.9945 - val_loss: 1.0265 - val_accuracy: 0.8625\n",
      "Epoch 24/25\n",
      "480/480 [==============================] - 133s 278ms/step - loss: 0.0148 - accuracy: 0.9947 - val_loss: 0.8933 - val_accuracy: 0.8562\n",
      "Epoch 25/25\n",
      "480/480 [==============================] - 134s 279ms/step - loss: 0.0135 - accuracy: 0.9950 - val_loss: 1.1849 - val_accuracy: 0.8531\n"
     ]
    }
   ],
   "source": [
    "tr=model.fit_generator(x_train,steps_per_epoch=480,epochs=25,validation_data=x_test,validation_steps=10)\n",
    "#steps_per_epoch =>total trainging images/batch size\n",
    "#validation_steps=>total testing images/batch size"
   ]
  },
  {
   "cell_type": "code",
   "execution_count": null,
   "metadata": {
    "colab": {
     "base_uri": "https://localhost:8080/"
    },
    "executionInfo": {
     "elapsed": 620,
     "status": "ok",
     "timestamp": 1690724384638,
     "user": {
      "displayName": "597 Dileep",
      "userId": "02511124501010041631"
     },
     "user_tz": -330
    },
    "id": "4ja0U3ERxvFY",
    "outputId": "05b5e401-7697-498a-a3f3-69192781aaf0"
   },
   "outputs": [
    {
     "data": {
      "text/plain": [
       "{'loss': [0.13747435808181763,\n",
       "  0.10193769633769989,\n",
       "  0.08173473924398422,\n",
       "  0.0652836412191391,\n",
       "  0.05415259301662445,\n",
       "  0.055286068469285965,\n",
       "  0.04148966073989868,\n",
       "  0.0398944616317749,\n",
       "  0.03603905811905861,\n",
       "  0.028842004016041756,\n",
       "  0.04344993084669113,\n",
       "  0.02806287445127964,\n",
       "  0.023479891940951347,\n",
       "  0.026659822091460228,\n",
       "  0.023999808356165886,\n",
       "  0.022436680272221565,\n",
       "  0.018494179472327232,\n",
       "  0.031407490372657776,\n",
       "  0.01968829520046711,\n",
       "  0.018452482298016548,\n",
       "  0.01141885295510292,\n",
       "  0.014424820430576801,\n",
       "  0.017308907583355904,\n",
       "  0.014843597076833248,\n",
       "  0.013471845537424088],\n",
       " 'accuracy': [0.9570432305335999,\n",
       "  0.969623863697052,\n",
       "  0.9739912748336792,\n",
       "  0.9775764346122742,\n",
       "  0.981683075428009,\n",
       "  0.9817482829093933,\n",
       "  0.985985279083252,\n",
       "  0.9867674708366394,\n",
       "  0.9880712032318115,\n",
       "  0.9908741116523743,\n",
       "  0.9865719079971313,\n",
       "  0.9913304448127747,\n",
       "  0.9922429919242859,\n",
       "  0.9912652373313904,\n",
       "  0.99335116147995,\n",
       "  0.992634117603302,\n",
       "  0.9932859539985657,\n",
       "  0.9900919198989868,\n",
       "  0.9932208061218262,\n",
       "  0.9941985607147217,\n",
       "  0.9961540699005127,\n",
       "  0.9955674409866333,\n",
       "  0.9945244789123535,\n",
       "  0.9947200417518616,\n",
       "  0.9949807524681091],\n",
       " 'val_loss': [0.4657807946205139,\n",
       "  0.5207963585853577,\n",
       "  0.4991781711578369,\n",
       "  0.6651092171669006,\n",
       "  1.007312297821045,\n",
       "  0.9779903292655945,\n",
       "  0.9158965945243835,\n",
       "  0.9603889584541321,\n",
       "  0.603946328163147,\n",
       "  0.6793200969696045,\n",
       "  0.7640761137008667,\n",
       "  1.393021583557129,\n",
       "  0.9433251619338989,\n",
       "  1.2739534378051758,\n",
       "  1.0926954746246338,\n",
       "  0.9974554777145386,\n",
       "  1.9398113489151,\n",
       "  1.3402776718139648,\n",
       "  1.4513579607009888,\n",
       "  1.0549614429473877,\n",
       "  0.7901676893234253,\n",
       "  1.0046565532684326,\n",
       "  1.0265382528305054,\n",
       "  0.8933058977127075,\n",
       "  1.1848552227020264],\n",
       " 'val_accuracy': [0.8343750238418579,\n",
       "  0.8656250238418579,\n",
       "  0.903124988079071,\n",
       "  0.871874988079071,\n",
       "  0.8374999761581421,\n",
       "  0.8343750238418579,\n",
       "  0.8374999761581421,\n",
       "  0.8500000238418579,\n",
       "  0.871874988079071,\n",
       "  0.875,\n",
       "  0.856249988079071,\n",
       "  0.8500000238418579,\n",
       "  0.8968750238418579,\n",
       "  0.859375,\n",
       "  0.875,\n",
       "  0.84375,\n",
       "  0.815625011920929,\n",
       "  0.8374999761581421,\n",
       "  0.871874988079071,\n",
       "  0.8500000238418579,\n",
       "  0.862500011920929,\n",
       "  0.831250011920929,\n",
       "  0.862500011920929,\n",
       "  0.856249988079071,\n",
       "  0.8531249761581421]}"
      ]
     },
     "execution_count": 30,
     "metadata": {},
     "output_type": "execute_result"
    }
   ],
   "source": [
    "tr.history"
   ]
  },
  {
   "cell_type": "markdown",
   "metadata": {
    "id": "gcu6XU_qxav1"
   },
   "source": [
    "#to save the best accuracy got in the epoch we willn use this callback and checkpoint"
   ]
  },
  {
   "cell_type": "code",
   "execution_count": null,
   "metadata": {
    "id": "_J8COiRZBuo8"
   },
   "outputs": [],
   "source": [
    "from tensorflow.keras.callbacks import ModelCheckpoint\n",
    "checkpoint = ModelCheckpoint(\"best_model_{epoch:02d}.h5\",monitor=\"val_accuracy\",save_best_only=True,mode=\"Max\")\n",
    "tr = model.fit_generator(x_train,steps_per_epoch=480,callbacks=[checkpoint],validation_steps=10)"
   ]
  },
  {
   "cell_type": "markdown",
   "metadata": {
    "id": "ezs_KTPmoc85"
   },
   "source": [
    "#saving the model"
   ]
  },
  {
   "cell_type": "code",
   "execution_count": null,
   "metadata": {
    "colab": {
     "base_uri": "https://localhost:8080/"
    },
    "executionInfo": {
     "elapsed": 688,
     "status": "ok",
     "timestamp": 1690725871270,
     "user": {
      "displayName": "597 Dileep",
      "userId": "02511124501010041631"
     },
     "user_tz": -330
    },
    "id": "okLOLF3RCplu",
    "outputId": "6cc5868b-078a-4d3f-f9f0-3a561468b67d"
   },
   "outputs": [
    {
     "name": "stderr",
     "output_type": "stream",
     "text": [
      "/usr/local/lib/python3.10/dist-packages/keras/src/engine/training.py:3000: UserWarning: You are saving your model as an HDF5 file via `model.save()`. This file format is considered legacy. We recommend using instead the native Keras format, e.g. `model.save('my_model.keras')`.\n",
      "  saving_api.save_model(\n"
     ]
    }
   ],
   "source": [
    "#for storing temporary\n",
    "model.save('ECG.h5')"
   ]
  },
  {
   "cell_type": "code",
   "execution_count": null,
   "metadata": {
    "colab": {
     "base_uri": "https://localhost:8080/"
    },
    "executionInfo": {
     "elapsed": 17458,
     "status": "ok",
     "timestamp": 1690725979887,
     "user": {
      "displayName": "597 Dileep",
      "userId": "02511124501010041631"
     },
     "user_tz": -330
    },
    "id": "hS5yAJ7iHWj4",
    "outputId": "c317de5a-a008-4bb2-c925-311c520546e8"
   },
   "outputs": [
    {
     "name": "stderr",
     "output_type": "stream",
     "text": [
      "/usr/local/lib/python3.10/dist-packages/keras/src/engine/training.py:3000: UserWarning: You are saving your model as an HDF5 file via `model.save()`. This file format is considered legacy. We recommend using instead the native Keras format, e.g. `model.save('my_model.keras')`.\n",
      "  saving_api.save_model(\n"
     ]
    }
   ],
   "source": [
    "#for storing permanent in drive\n",
    "model.save(\"/content/drive/MyDrive/ECG-Dataset/ECG.h5\")"
   ]
  },
  {
   "cell_type": "code",
   "execution_count": null,
   "metadata": {
    "id": "Fk0RzgBtKdNj"
   },
   "outputs": [],
   "source": [
    "losses=tr.history['loss']\n",
    "accuracy=tr.history['accuracy']\n",
    "epochs=list(range(1,26))\n"
   ]
  },
  {
   "cell_type": "code",
   "execution_count": null,
   "metadata": {
    "colab": {
     "base_uri": "https://localhost:8080/",
     "height": 449
    },
    "executionInfo": {
     "elapsed": 739,
     "status": "ok",
     "timestamp": 1690726817612,
     "user": {
      "displayName": "597 Dileep",
      "userId": "02511124501010041631"
     },
     "user_tz": -330
    },
    "id": "TCjB758ZKu4W",
    "outputId": "759f8364-dae4-4f6e-b4d8-cae381717a47"
   },
   "outputs": [
    {
     "data": {
      "image/png": "[encoded data removed]",
      "text/plain": [
       "<Figure size 640x480 with 1 Axes>"
      ]
     },
     "metadata": {},
     "output_type": "display_data"
    }
   ],
   "source": [
    "import matplotlib.pyplot as plt\n",
    "plt.plot(epochs,losses)\n",
    "plt.xlabel(\"epochs\")\n",
    "plt.ylabel(\"loss\")\n",
    "plt.show()"
   ]
  },
  {
   "cell_type": "code",
   "execution_count": null,
   "metadata": {
    "colab": {
     "base_uri": "https://localhost:8080/",
     "height": 449
    },
    "executionInfo": {
     "elapsed": 593,
     "status": "ok",
     "timestamp": 1690726851811,
     "user": {
      "displayName": "597 Dileep",
      "userId": "02511124501010041631"
     },
     "user_tz": -330
    },
    "id": "q0S29BBQK9ln",
    "outputId": "b7fb6f71-056c-4189-f461-c299149d8133"
   },
   "outputs": [
    {
     "data": {
      "image/png": "[encoded data removed]",
      "text/plain": [
       "<Figure size 640x480 with 1 Axes>"
      ]
     },
     "metadata": {},
     "output_type": "display_data"
    }
   ],
   "source": [
    "plt.plot(epochs,accuracy)\n",
    "plt.xlabel(\"epochs\")\n",
    "plt.ylabel(\"accuracy\")\n",
    "plt.show()"
   ]
  },
  {
   "cell_type": "code",
   "execution_count": null,
   "metadata": {
    "id": "t4LS3rN0Lu0Q"
   },
   "outputs": [],
   "source": [
    "losses=tr.history['loss']\n",
    "accuracy=tr.history['accuracy']\n",
    "val_accuarcy=tr.history['val_accuracy']\n",
    "epochs=list(range(1,26))\n"
   ]
  },
  {
   "cell_type": "code",
   "execution_count": null,
   "metadata": {
    "colab": {
     "base_uri": "https://localhost:8080/",
     "height": 449
    },
    "executionInfo": {
     "elapsed": 731,
     "status": "ok",
     "timestamp": 1690727259672,
     "user": {
      "displayName": "597 Dileep",
      "userId": "02511124501010041631"
     },
     "user_tz": -330
    },
    "id": "dA7lueRZLF4O",
    "outputId": "2267dbcc-be0b-4cf8-a021-5598df896468"
   },
   "outputs": [
    {
     "data": {
      "image/png": "[encoded data removed]",
      "text/plain": [
       "<Figure size 640x480 with 1 Axes>"
      ]
     },
     "metadata": {},
     "output_type": "display_data"
    }
   ],
   "source": [
    "plt.plot(epochs,val_accuarcy)\n",
    "plt.xlabel(\"epochs\")\n",
    "plt.ylabel(\"accuracy\")\n",
    "plt.show()"
   ]
  }
 ],
 "metadata": {
  "colab": {
   "authorship_tag": "ABX9TyOUlf0c/TNO/BkV79GmjPvm",
   "mount_file_id": "1otYOJsX022Oh18y00WoAhvr81iUGsNGh",
   "provenance": []
  },
  "kernelspec": {
   "display_name": "Python 3 (ipykernel)",
   "language": "python",
   "name": "python3"
  },
  "language_info": {
   "codemirror_mode": {
    "name": "ipython",
    "version": 3
   },
   "file_extension": ".py",
   "mimetype": "text/x-python",
   "name": "python",
   "nbconvert_exporter": "python",
   "pygments_lexer": "ipython3",
   "version": "3.11.3"
  }
 },
 "nbformat": 4,
 "nbformat_minor": 1
}
